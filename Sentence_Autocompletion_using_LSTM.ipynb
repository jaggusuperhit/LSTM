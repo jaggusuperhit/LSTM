{
  "cells": [
    {
      "cell_type": "markdown",
      "metadata": {
        "id": "GFXGzquNIdqB"
      },
      "source": [
        "# LSTM Implementation"
      ]
    },
    {
      "cell_type": "markdown",
      "metadata": {
        "id": "ny90FRWwIdqD"
      },
      "source": [
        "# **Text Preprocessing**"
      ]
    },
    {
      "cell_type": "code",
      "execution_count": 1,
      "metadata": {
        "id": "wIPfySVsIdqE"
      },
      "outputs": [],
      "source": [
        "import os\n",
        "import pandas as pd\n",
        "import numpy as np\n",
        "import tensorflow as tf\n",
        "from tensorflow.keras.preprocessing.sequence import pad_sequences\n",
        "from tensorflow.keras.layers import Embedding, LSTM, Dense, Bidirectional\n",
        "from tensorflow.keras.preprocessing.text import Tokenizer\n",
        "from tensorflow.keras.models import Sequential\n",
        "from tensorflow.keras.optimizers import Adam\n",
        "import nltk\n",
        "import re"
      ]
    },
    {
      "cell_type": "code",
      "execution_count": 2,
      "metadata": {
        "id": "LSeREUK8IdqF"
      },
      "outputs": [],
      "source": [
        "# Specify the filename\n",
        "input_file = 'holmes.txt'\n",
        "\n",
        "# Read the contents of the file\n",
        "with open(input_file, 'r', encoding='utf-8') as infile:\n",
        "    data = infile.read()"
      ]
    },
    {
      "cell_type": "code",
      "execution_count": 3,
      "metadata": {
        "id": "bPU1udq7IdqG",
        "colab": {
          "base_uri": "https://localhost:8080/",
          "height": 35
        },
        "outputId": "d99345c0-d51f-4e93-ebdd-9aeaa8b8397d"
      },
      "outputs": [
        {
          "output_type": "execute_result",
          "data": {
            "text/plain": [
              "\"*Project Gutenberg's Etext of Tom Swift And His Submarine Boat*\\n\\n#4 in the Victor Appleton's Tom Swi\""
            ],
            "application/vnd.google.colaboratory.intrinsic+json": {
              "type": "string"
            }
          },
          "metadata": {},
          "execution_count": 3
        }
      ],
      "source": [
        "data[:100] # view first few characters"
      ]
    },
    {
      "cell_type": "code",
      "execution_count": 4,
      "metadata": {
        "id": "IFovJmjWIdqG"
      },
      "outputs": [],
      "source": [
        "# Limit data to 500000 characters\n",
        "data = data[:500000]"
      ]
    },
    {
      "cell_type": "markdown",
      "metadata": {
        "id": "fXQMq1P_IdqG"
      },
      "source": [
        "# Clean Text"
      ]
    },
    {
      "cell_type": "code",
      "execution_count": 5,
      "metadata": {
        "id": "eTZtOQmxIdqH"
      },
      "outputs": [],
      "source": [
        "# Function to remove emojis and special characters from text\n",
        "def remove_emojis_and_special_characters(text):\n",
        "    # Remove emojis\n",
        "    emoji_pattern = re.compile(\"[\"\n",
        "                               u\"\\U0001F600-\\U0001F64F\"  # emoticons\n",
        "                               u\"\\U0001F300-\\U0001F5FF\"  # symbols & pictographs\n",
        "                               u\"\\U0001F680-\\U0001F6FF\"  # transport & map symbols\n",
        "                               u\"\\U0001F700-\\U0001F77F\"  # alchemical symbols\n",
        "                               u\"\\U0001F780-\\U0001F7FF\"  # Geometric Shapes Extended\n",
        "                               u\"\\U0001F800-\\U0001F8FF\"  # Supplemental Arrows-C\n",
        "                               u\"\\U0001F900-\\U0001F9FF\"  # Supplemental Symbols and Pictographs\n",
        "                               u\"\\U0001FA00-\\U0001FA6F\"  # Chess Symbols\n",
        "                               u\"\\U0001FA70-\\U0001FAFF\"  # Symbols and Pictographs Extended-A\n",
        "                               u\"\\U00002702-\\U000027B0\"  # Dingbats\n",
        "                               u\"\\U000024C2-\\U0001F251\"\n",
        "                               \"]+\", flags=re.UNICODE)\n",
        "\n",
        "    # Remove special characters\n",
        "    text = re.sub(r'[^a-zA-Z0-9\\s]', '', text)\n",
        "\n",
        "    # Remove extra spaces\n",
        "    text = re.sub(' +', ' ', text)\n",
        "\n",
        "    return text"
      ]
    },
    {
      "cell_type": "code",
      "execution_count": 6,
      "metadata": {
        "id": "o6BIfkOeIdqH"
      },
      "outputs": [],
      "source": [
        "# Preprocessing pipeline\n",
        "def preprocess_pipeline(data) -> 'list':\n",
        "    # Split by newline character\n",
        "    sentences = data.split('\\n')\n",
        "    for i in range(len(sentences)):\n",
        "        sentences[i] = remove_emojis_and_special_characters(sentences[i])\n",
        "    # Remove leading and trailing spaces\n",
        "    sentences = [s.strip() for s in sentences]\n",
        "    # Drop empty sentences\n",
        "    sentences = [s for s in sentences if len(s) > 0]\n",
        "    # Tokenization\n",
        "    tokenized = []\n",
        "    for sentence in sentences:\n",
        "        # Convert to lowercase\n",
        "        sentence = sentence.lower()\n",
        "        tokenized.append(sentence)\n",
        "    return tokenized\n",
        "\n",
        "# Tokenize sentences\n",
        "tokenized_sentences = preprocess_pipeline(data)"
      ]
    },
    {
      "cell_type": "code",
      "execution_count": 7,
      "metadata": {
        "id": "ujzfAmKdIdqI"
      },
      "outputs": [],
      "source": [
        "\"\"\"\n",
        "What is an OOV Token?\n",
        "An out-of-vocabulary (OOV) token is a special token used in natural language processing (NLP) tasks to represent words that\n",
        "are not present in the vocabulary of the model or tokenizer. When a word that is not in the vocabulary is encountered during\n",
        "tokenization or text processing, it is replaced with the OOV token.\n",
        "\n",
        "Why Use an OOV Token?\n",
        "Using an OOV token helps handle unseen or unknown words during the training or inference phase of an NLP model.\n",
        "Instead of encountering errors or issues when encountering unknown words, the model can gracefully handle them by\n",
        "representing them with the OOV token. This is particularly useful when working with real-world data where the vocabulary\n",
        "of the model may not cover all possible words.\n",
        "\"\"\"\n",
        "# Tokenize words\n",
        "tokenizer = Tokenizer(oov_token='<oov>')\n",
        "tokenizer.fit_on_texts(tokenized_sentences)\n",
        "total_words = len(tokenizer.word_index) + 1\n",
        "# tokenizer.word_counts\n",
        "# tokenizer.word_index\n",
        "\"\"\"\n",
        "n_gram example:\n",
        "[3, 15, 8, 7, 20, 12, 6]\n",
        "\n",
        "For the above sentece sentence, the code would generate the following n-gram sequences:\n",
        "\n",
        "[3, 15]\n",
        "[3, 15, 8]\n",
        "[3, 15, 8, 7]\n",
        "[3, 15, 8, 7, 20]\n",
        "[3, 15, 8, 7, 20, 12]\n",
        "[3, 15, 8, 7, 20, 12, 6]\n",
        "\"\"\"\n",
        "\n",
        "# Generate input sequences\n",
        "input_sequences = []\n",
        "for line in tokenized_sentences:\n",
        "    token_list = tokenizer.texts_to_sequences([line])[0]\n",
        "    for i in range(1, len(token_list)):\n",
        "        n_gram_sequence = token_list[:i + 1]\n",
        "        input_sequences.append(n_gram_sequence)\n",
        "\n",
        "# Pad sequences\n",
        "max_sequence_len = max([len(x) for x in input_sequences])\n",
        "input_sequences = np.array(pad_sequences(input_sequences, maxlen=max_sequence_len, padding='pre'))"
      ]
    },
    {
      "cell_type": "code",
      "execution_count": 8,
      "metadata": {
        "id": "2VThbt5HIdqI"
      },
      "outputs": [],
      "source": [
        "# Creates labels with input sequences\n",
        "X,labels = input_sequences[:,:-1],input_sequences[:,-1]\n",
        "ys = tf.keras.utils.to_categorical(labels, num_classes=total_words)"
      ]
    },
    {
      "cell_type": "code",
      "execution_count": 9,
      "metadata": {
        "execution": {
          "iopub.execute_input": "2024-04-11T05:32:13.168190Z",
          "iopub.status.busy": "2024-04-11T05:32:13.167751Z",
          "iopub.status.idle": "2024-04-11T05:32:20.041506Z",
          "shell.execute_reply": "2024-04-11T05:32:20.040383Z",
          "shell.execute_reply.started": "2024-04-11T05:32:13.168137Z"
        },
        "id": "vJDHVTwCIdqI"
      },
      "outputs": [],
      "source": [
        "# Split data into training, validation, and test sets\n",
        "from sklearn.model_selection import train_test_split\n",
        "X_train_temp, X_val_test, y_train_temp, y_val_test = train_test_split(X, ys, test_size=0.2, random_state=42)\n",
        "X_val, X_test, y_val, y_test = train_test_split(X_val_test, y_val_test, test_size=0.5, random_state=42)"
      ]
    },
    {
      "cell_type": "markdown",
      "metadata": {
        "id": "2_sORTU4IdqI"
      },
      "source": [
        "# Train LSTM Model"
      ]
    },
    {
      "cell_type": "code",
      "execution_count": 10,
      "metadata": {
        "execution": {
          "iopub.execute_input": "2024-04-11T06:50:19.346868Z",
          "iopub.status.busy": "2024-04-11T06:50:19.345839Z",
          "iopub.status.idle": "2024-04-11T07:17:23.071736Z",
          "shell.execute_reply": "2024-04-11T07:17:23.070573Z",
          "shell.execute_reply.started": "2024-04-11T06:50:19.346830Z"
        },
        "id": "YfsXUtF8IdqJ",
        "colab": {
          "base_uri": "https://localhost:8080/"
        },
        "outputId": "e0b2234f-e9fe-4c18-eaeb-a82304954edb"
      },
      "outputs": [
        {
          "output_type": "stream",
          "name": "stdout",
          "text": [
            "Epoch 1/50\n",
            "\u001b[1m2002/2002\u001b[0m \u001b[32m━━━━━━━━━━━━━━━━━━━━\u001b[0m\u001b[37m\u001b[0m \u001b[1m24s\u001b[0m 9ms/step - accuracy: 0.0946 - loss: 6.2909 - val_accuracy: 0.1150 - val_loss: 6.4084\n",
            "Epoch 2/50\n",
            "\u001b[1m2002/2002\u001b[0m \u001b[32m━━━━━━━━━━━━━━━━━━━━\u001b[0m\u001b[37m\u001b[0m \u001b[1m17s\u001b[0m 9ms/step - accuracy: 0.1331 - loss: 5.8754 - val_accuracy: 0.1346 - val_loss: 6.0080\n",
            "Epoch 3/50\n",
            "\u001b[1m2002/2002\u001b[0m \u001b[32m━━━━━━━━━━━━━━━━━━━━\u001b[0m\u001b[37m\u001b[0m \u001b[1m17s\u001b[0m 9ms/step - accuracy: 0.1613 - loss: 4.9444 - val_accuracy: 0.1349 - val_loss: 6.4065\n",
            "Epoch 4/50\n",
            "\u001b[1m2002/2002\u001b[0m \u001b[32m━━━━━━━━━━━━━━━━━━━━\u001b[0m\u001b[37m\u001b[0m \u001b[1m17s\u001b[0m 8ms/step - accuracy: 0.1678 - loss: 4.9078 - val_accuracy: 0.1409 - val_loss: 6.5960\n",
            "Epoch 5/50\n",
            "\u001b[1m2002/2002\u001b[0m \u001b[32m━━━━━━━━━━━━━━━━━━━━\u001b[0m\u001b[37m\u001b[0m \u001b[1m22s\u001b[0m 9ms/step - accuracy: 0.1886 - loss: 4.4316 - val_accuracy: 0.1334 - val_loss: 6.8065\n",
            "Epoch 6/50\n",
            "\u001b[1m2002/2002\u001b[0m \u001b[32m━━━━━━━━━━━━━━━━━━━━\u001b[0m\u001b[37m\u001b[0m \u001b[1m21s\u001b[0m 9ms/step - accuracy: 0.1981 - loss: 4.2360 - val_accuracy: 0.1345 - val_loss: 7.0938\n",
            "Epoch 7/50\n",
            "\u001b[1m2002/2002\u001b[0m \u001b[32m━━━━━━━━━━━━━━━━━━━━\u001b[0m\u001b[37m\u001b[0m \u001b[1m19s\u001b[0m 9ms/step - accuracy: 0.2067 - loss: 4.1725 - val_accuracy: 0.1329 - val_loss: 7.3097\n",
            "Epoch 8/50\n",
            "\u001b[1m2002/2002\u001b[0m \u001b[32m━━━━━━━━━━━━━━━━━━━━\u001b[0m\u001b[37m\u001b[0m \u001b[1m21s\u001b[0m 9ms/step - accuracy: 0.2224 - loss: 3.9861 - val_accuracy: 0.1420 - val_loss: 7.5035\n",
            "Epoch 9/50\n",
            "\u001b[1m2002/2002\u001b[0m \u001b[32m━━━━━━━━━━━━━━━━━━━━\u001b[0m\u001b[37m\u001b[0m \u001b[1m17s\u001b[0m 9ms/step - accuracy: 0.2270 - loss: 3.9193 - val_accuracy: 0.1378 - val_loss: 7.7384\n",
            "Epoch 10/50\n",
            "\u001b[1m2002/2002\u001b[0m \u001b[32m━━━━━━━━━━━━━━━━━━━━\u001b[0m\u001b[37m\u001b[0m \u001b[1m21s\u001b[0m 9ms/step - accuracy: 0.2329 - loss: 3.8493 - val_accuracy: 0.1360 - val_loss: 8.0026\n",
            "Epoch 11/50\n",
            "\u001b[1m2002/2002\u001b[0m \u001b[32m━━━━━━━━━━━━━━━━━━━━\u001b[0m\u001b[37m\u001b[0m \u001b[1m21s\u001b[0m 9ms/step - accuracy: 0.2355 - loss: 3.8149 - val_accuracy: 0.1279 - val_loss: 8.1988\n",
            "Epoch 12/50\n",
            "\u001b[1m2002/2002\u001b[0m \u001b[32m━━━━━━━━━━━━━━━━━━━━\u001b[0m\u001b[37m\u001b[0m \u001b[1m20s\u001b[0m 9ms/step - accuracy: 0.2428 - loss: 3.7302 - val_accuracy: 0.1341 - val_loss: 8.2942\n",
            "Epoch 13/50\n",
            "\u001b[1m2002/2002\u001b[0m \u001b[32m━━━━━━━━━━━━━━━━━━━━\u001b[0m\u001b[37m\u001b[0m \u001b[1m21s\u001b[0m 9ms/step - accuracy: 0.2464 - loss: 3.6897 - val_accuracy: 0.1399 - val_loss: 8.4627\n",
            "Epoch 14/50\n",
            "\u001b[1m2002/2002\u001b[0m \u001b[32m━━━━━━━━━━━━━━━━━━━━\u001b[0m\u001b[37m\u001b[0m \u001b[1m21s\u001b[0m 9ms/step - accuracy: 0.2492 - loss: 3.6650 - val_accuracy: 0.1340 - val_loss: 8.7574\n",
            "Epoch 15/50\n",
            "\u001b[1m2002/2002\u001b[0m \u001b[32m━━━━━━━━━━━━━━━━━━━━\u001b[0m\u001b[37m\u001b[0m \u001b[1m22s\u001b[0m 9ms/step - accuracy: 0.2510 - loss: 3.6707 - val_accuracy: 0.1317 - val_loss: 8.9188\n",
            "Epoch 16/50\n",
            "\u001b[1m2002/2002\u001b[0m \u001b[32m━━━━━━━━━━━━━━━━━━━━\u001b[0m\u001b[37m\u001b[0m \u001b[1m19s\u001b[0m 9ms/step - accuracy: 0.2507 - loss: 3.6560 - val_accuracy: 0.1334 - val_loss: 9.1510\n",
            "Epoch 17/50\n",
            "\u001b[1m2002/2002\u001b[0m \u001b[32m━━━━━━━━━━━━━━━━━━━━\u001b[0m\u001b[37m\u001b[0m \u001b[1m21s\u001b[0m 9ms/step - accuracy: 0.2548 - loss: 3.6188 - val_accuracy: 0.1310 - val_loss: 9.2592\n",
            "Epoch 18/50\n",
            "\u001b[1m2002/2002\u001b[0m \u001b[32m━━━━━━━━━━━━━━━━━━━━\u001b[0m\u001b[37m\u001b[0m \u001b[1m21s\u001b[0m 9ms/step - accuracy: 0.2529 - loss: 3.6842 - val_accuracy: 0.1305 - val_loss: 9.5160\n",
            "Epoch 19/50\n",
            "\u001b[1m2002/2002\u001b[0m \u001b[32m━━━━━━━━━━━━━━━━━━━━\u001b[0m\u001b[37m\u001b[0m \u001b[1m20s\u001b[0m 9ms/step - accuracy: 0.2548 - loss: 3.6753 - val_accuracy: 0.1320 - val_loss: 9.6255\n",
            "Epoch 20/50\n",
            "\u001b[1m2002/2002\u001b[0m \u001b[32m━━━━━━━━━━━━━━━━━━━━\u001b[0m\u001b[37m\u001b[0m \u001b[1m18s\u001b[0m 9ms/step - accuracy: 0.2572 - loss: 3.6436 - val_accuracy: 0.1257 - val_loss: 9.8017\n",
            "Epoch 21/50\n",
            "\u001b[1m2002/2002\u001b[0m \u001b[32m━━━━━━━━━━━━━━━━━━━━\u001b[0m\u001b[37m\u001b[0m \u001b[1m20s\u001b[0m 9ms/step - accuracy: 0.2614 - loss: 3.6181 - val_accuracy: 0.1308 - val_loss: 9.9842\n",
            "Epoch 22/50\n",
            "\u001b[1m2002/2002\u001b[0m \u001b[32m━━━━━━━━━━━━━━━━━━━━\u001b[0m\u001b[37m\u001b[0m \u001b[1m21s\u001b[0m 9ms/step - accuracy: 0.2596 - loss: 3.6536 - val_accuracy: 0.1323 - val_loss: 9.9775\n",
            "Epoch 23/50\n",
            "\u001b[1m2002/2002\u001b[0m \u001b[32m━━━━━━━━━━━━━━━━━━━━\u001b[0m\u001b[37m\u001b[0m \u001b[1m21s\u001b[0m 9ms/step - accuracy: 0.2610 - loss: 3.6171 - val_accuracy: 0.1299 - val_loss: 10.4174\n",
            "Epoch 24/50\n",
            "\u001b[1m2002/2002\u001b[0m \u001b[32m━━━━━━━━━━━━━━━━━━━━\u001b[0m\u001b[37m\u001b[0m \u001b[1m20s\u001b[0m 9ms/step - accuracy: 0.2628 - loss: 3.6055 - val_accuracy: 0.1318 - val_loss: 10.4347\n",
            "Epoch 25/50\n",
            "\u001b[1m2002/2002\u001b[0m \u001b[32m━━━━━━━━━━━━━━━━━━━━\u001b[0m\u001b[37m\u001b[0m \u001b[1m20s\u001b[0m 9ms/step - accuracy: 0.2623 - loss: 3.6224 - val_accuracy: 0.1242 - val_loss: 10.7553\n",
            "Epoch 26/50\n",
            "\u001b[1m2002/2002\u001b[0m \u001b[32m━━━━━━━━━━━━━━━━━━━━\u001b[0m\u001b[37m\u001b[0m \u001b[1m19s\u001b[0m 9ms/step - accuracy: 0.2589 - loss: 3.6836 - val_accuracy: 0.1244 - val_loss: 10.7850\n",
            "Epoch 27/50\n",
            "\u001b[1m2002/2002\u001b[0m \u001b[32m━━━━━━━━━━━━━━━━━━━━\u001b[0m\u001b[37m\u001b[0m \u001b[1m19s\u001b[0m 9ms/step - accuracy: 0.2628 - loss: 3.6244 - val_accuracy: 0.1265 - val_loss: 10.7557\n",
            "Epoch 28/50\n",
            "\u001b[1m2002/2002\u001b[0m \u001b[32m━━━━━━━━━━━━━━━━━━━━\u001b[0m\u001b[37m\u001b[0m \u001b[1m18s\u001b[0m 9ms/step - accuracy: 0.2630 - loss: 3.6296 - val_accuracy: 0.1275 - val_loss: 11.0475\n",
            "Epoch 29/50\n",
            "\u001b[1m2002/2002\u001b[0m \u001b[32m━━━━━━━━━━━━━━━━━━━━\u001b[0m\u001b[37m\u001b[0m \u001b[1m20s\u001b[0m 9ms/step - accuracy: 0.2691 - loss: 3.5653 - val_accuracy: 0.1323 - val_loss: 11.0667\n",
            "Epoch 30/50\n",
            "\u001b[1m2002/2002\u001b[0m \u001b[32m━━━━━━━━━━━━━━━━━━━━\u001b[0m\u001b[37m\u001b[0m \u001b[1m20s\u001b[0m 9ms/step - accuracy: 0.2702 - loss: 3.5675 - val_accuracy: 0.1323 - val_loss: 11.1589\n",
            "Epoch 31/50\n",
            "\u001b[1m2002/2002\u001b[0m \u001b[32m━━━━━━━━━━━━━━━━━━━━\u001b[0m\u001b[37m\u001b[0m \u001b[1m21s\u001b[0m 9ms/step - accuracy: 0.2694 - loss: 3.5720 - val_accuracy: 0.1323 - val_loss: 11.4677\n",
            "Epoch 32/50\n",
            "\u001b[1m2002/2002\u001b[0m \u001b[32m━━━━━━━━━━━━━━━━━━━━\u001b[0m\u001b[37m\u001b[0m \u001b[1m20s\u001b[0m 9ms/step - accuracy: 0.2713 - loss: 3.5399 - val_accuracy: 0.1339 - val_loss: 11.3956\n",
            "Epoch 33/50\n",
            "\u001b[1m2002/2002\u001b[0m \u001b[32m━━━━━━━━━━━━━━━━━━━━\u001b[0m\u001b[37m\u001b[0m \u001b[1m18s\u001b[0m 9ms/step - accuracy: 0.2716 - loss: 3.5554 - val_accuracy: 0.1238 - val_loss: 11.4589\n",
            "Epoch 34/50\n",
            "\u001b[1m2002/2002\u001b[0m \u001b[32m━━━━━━━━━━━━━━━━━━━━\u001b[0m\u001b[37m\u001b[0m \u001b[1m21s\u001b[0m 9ms/step - accuracy: 0.2701 - loss: 3.5556 - val_accuracy: 0.1318 - val_loss: 11.5957\n",
            "Epoch 35/50\n",
            "\u001b[1m2002/2002\u001b[0m \u001b[32m━━━━━━━━━━━━━━━━━━━━\u001b[0m\u001b[37m\u001b[0m \u001b[1m20s\u001b[0m 9ms/step - accuracy: 0.2737 - loss: 3.5196 - val_accuracy: 0.1345 - val_loss: 11.8086\n",
            "Epoch 36/50\n",
            "\u001b[1m2002/2002\u001b[0m \u001b[32m━━━━━━━━━━━━━━━━━━━━\u001b[0m\u001b[37m\u001b[0m \u001b[1m21s\u001b[0m 9ms/step - accuracy: 0.2718 - loss: 3.5922 - val_accuracy: 0.1282 - val_loss: 11.7758\n",
            "Epoch 37/50\n",
            "\u001b[1m2002/2002\u001b[0m \u001b[32m━━━━━━━━━━━━━━━━━━━━\u001b[0m\u001b[37m\u001b[0m \u001b[1m21s\u001b[0m 9ms/step - accuracy: 0.2751 - loss: 3.5109 - val_accuracy: 0.1263 - val_loss: 11.8523\n",
            "Epoch 38/50\n",
            "\u001b[1m2002/2002\u001b[0m \u001b[32m━━━━━━━━━━━━━━━━━━━━\u001b[0m\u001b[37m\u001b[0m \u001b[1m17s\u001b[0m 9ms/step - accuracy: 0.2772 - loss: 3.5110 - val_accuracy: 0.1264 - val_loss: 12.0734\n",
            "Epoch 39/50\n",
            "\u001b[1m2002/2002\u001b[0m \u001b[32m━━━━━━━━━━━━━━━━━━━━\u001b[0m\u001b[37m\u001b[0m \u001b[1m21s\u001b[0m 9ms/step - accuracy: 0.2799 - loss: 3.4954 - val_accuracy: 0.1240 - val_loss: 12.1409\n",
            "Epoch 40/50\n",
            "\u001b[1m2002/2002\u001b[0m \u001b[32m━━━━━━━━━━━━━━━━━━━━\u001b[0m\u001b[37m\u001b[0m \u001b[1m20s\u001b[0m 9ms/step - accuracy: 0.2780 - loss: 3.5133 - val_accuracy: 0.1228 - val_loss: 12.2259\n",
            "Epoch 41/50\n",
            "\u001b[1m2002/2002\u001b[0m \u001b[32m━━━━━━━━━━━━━━━━━━━━\u001b[0m\u001b[37m\u001b[0m \u001b[1m21s\u001b[0m 9ms/step - accuracy: 0.2787 - loss: 3.4980 - val_accuracy: 0.1319 - val_loss: 12.4623\n",
            "Epoch 42/50\n",
            "\u001b[1m2002/2002\u001b[0m \u001b[32m━━━━━━━━━━━━━━━━━━━━\u001b[0m\u001b[37m\u001b[0m \u001b[1m18s\u001b[0m 9ms/step - accuracy: 0.2797 - loss: 3.5423 - val_accuracy: 0.1218 - val_loss: 12.4684\n",
            "Epoch 43/50\n",
            "\u001b[1m2002/2002\u001b[0m \u001b[32m━━━━━━━━━━━━━━━━━━━━\u001b[0m\u001b[37m\u001b[0m \u001b[1m17s\u001b[0m 9ms/step - accuracy: 0.2819 - loss: 3.4949 - val_accuracy: 0.1219 - val_loss: 12.5467\n",
            "Epoch 44/50\n",
            "\u001b[1m2002/2002\u001b[0m \u001b[32m━━━━━━━━━━━━━━━━━━━━\u001b[0m\u001b[37m\u001b[0m \u001b[1m18s\u001b[0m 9ms/step - accuracy: 0.2770 - loss: 3.5564 - val_accuracy: 0.1274 - val_loss: 12.8030\n",
            "Epoch 45/50\n",
            "\u001b[1m2002/2002\u001b[0m \u001b[32m━━━━━━━━━━━━━━━━━━━━\u001b[0m\u001b[37m\u001b[0m \u001b[1m20s\u001b[0m 9ms/step - accuracy: 0.2819 - loss: 3.5486 - val_accuracy: 0.1332 - val_loss: 12.8368\n",
            "Epoch 46/50\n",
            "\u001b[1m2002/2002\u001b[0m \u001b[32m━━━━━━━━━━━━━━━━━━━━\u001b[0m\u001b[37m\u001b[0m \u001b[1m22s\u001b[0m 9ms/step - accuracy: 0.2776 - loss: 3.5805 - val_accuracy: 0.1174 - val_loss: 13.1397\n",
            "Epoch 47/50\n",
            "\u001b[1m2002/2002\u001b[0m \u001b[32m━━━━━━━━━━━━━━━━━━━━\u001b[0m\u001b[37m\u001b[0m \u001b[1m21s\u001b[0m 9ms/step - accuracy: 0.2760 - loss: 3.6040 - val_accuracy: 0.1239 - val_loss: 13.0897\n",
            "Epoch 48/50\n",
            "\u001b[1m2002/2002\u001b[0m \u001b[32m━━━━━━━━━━━━━━━━━━━━\u001b[0m\u001b[37m\u001b[0m \u001b[1m17s\u001b[0m 9ms/step - accuracy: 0.2844 - loss: 3.5529 - val_accuracy: 0.1222 - val_loss: 13.1850\n",
            "Epoch 49/50\n",
            "\u001b[1m2002/2002\u001b[0m \u001b[32m━━━━━━━━━━━━━━━━━━━━\u001b[0m\u001b[37m\u001b[0m \u001b[1m21s\u001b[0m 9ms/step - accuracy: 0.2850 - loss: 3.5504 - val_accuracy: 0.1320 - val_loss: 13.2514\n",
            "Epoch 50/50\n",
            "\u001b[1m2002/2002\u001b[0m \u001b[32m━━━━━━━━━━━━━━━━━━━━\u001b[0m\u001b[37m\u001b[0m \u001b[1m20s\u001b[0m 9ms/step - accuracy: 0.2866 - loss: 3.5218 - val_accuracy: 0.1254 - val_loss: 13.3838\n"
          ]
        }
      ],
      "source": [
        "# Define your model\n",
        "model = Sequential()\n",
        "model.add(Embedding(total_words, 100))\n",
        "model.add(Bidirectional(LSTM(150)))\n",
        "model.add(Dense(total_words, activation='softmax'))\n",
        "\n",
        "adam = Adam(learning_rate=0.01)\n",
        "model.compile(loss='categorical_crossentropy', optimizer=adam, metrics=['accuracy'])\n",
        "\n",
        "# Train the model\n",
        "history = model.fit(X_train_temp, y_train_temp, epochs=50, validation_data=(X_val, y_val), verbose=1)"
      ]
    },
    {
      "cell_type": "markdown",
      "metadata": {
        "id": "UMT4il7AIdqJ"
      },
      "source": [
        "# Save Models (Weights and biases)"
      ]
    },
    {
      "cell_type": "code",
      "execution_count": 11,
      "metadata": {
        "execution": {
          "iopub.execute_input": "2024-04-11T07:17:23.074643Z",
          "iopub.status.busy": "2024-04-11T07:17:23.074319Z",
          "iopub.status.idle": "2024-04-11T07:17:23.216893Z",
          "shell.execute_reply": "2024-04-11T07:17:23.215911Z",
          "shell.execute_reply.started": "2024-04-11T07:17:23.074617Z"
        },
        "id": "PQPHYak4IdqJ"
      },
      "outputs": [],
      "source": [
        "# # Save model architecture as JSON file\n",
        "# from tensorflow.keras.models import model_from_json\n",
        "\n",
        "# model_json = model.to_json()\n",
        "# with open(\"lstm_model.json\", \"w\") as json_file:\n",
        "#     json_file.write(model_json)"
      ]
    },
    {
      "cell_type": "code",
      "execution_count": 12,
      "metadata": {
        "id": "nbL9XQ2WIdqJ"
      },
      "outputs": [],
      "source": [
        "# # Load model architecture from JSON file\n",
        "# from tensorflow.keras.models import model_from_json\n",
        "\n",
        "# with open(\"lstm_model.json\", \"r\") as json_file:\n",
        "#     loaded_model_json = json_file.read()\n",
        "\n",
        "# # Create model from loaded architecture\n",
        "# loaded_model = model_from_json(loaded_model_json)\n",
        "\n",
        "# print(\"Model architecture loaded successfully from JSON file.\")"
      ]
    },
    {
      "cell_type": "code",
      "execution_count": 13,
      "metadata": {
        "execution": {
          "iopub.execute_input": "2024-04-11T06:04:13.104775Z",
          "iopub.status.busy": "2024-04-11T06:04:13.104349Z",
          "iopub.status.idle": "2024-04-11T06:04:13.406339Z",
          "shell.execute_reply": "2024-04-11T06:04:13.404737Z",
          "shell.execute_reply.started": "2024-04-11T06:04:13.104743Z"
        },
        "id": "AfTDw9IgIdqJ"
      },
      "outputs": [],
      "source": [
        "import matplotlib.pyplot as plt\n",
        "import seaborn as sns\n",
        "from sklearn.metrics import confusion_matrix\n"
      ]
    },
    {
      "cell_type": "code",
      "execution_count": 14,
      "metadata": {
        "execution": {
          "iopub.execute_input": "2024-04-11T06:04:14.332289Z",
          "iopub.status.busy": "2024-04-11T06:04:14.331600Z",
          "iopub.status.idle": "2024-04-11T06:04:15.028083Z",
          "shell.execute_reply": "2024-04-11T06:04:15.026976Z",
          "shell.execute_reply.started": "2024-04-11T06:04:14.332254Z"
        },
        "id": "T3Wu4qYKIdqJ",
        "colab": {
          "base_uri": "https://localhost:8080/",
          "height": 927
        },
        "outputId": "cae59ee0-0cd3-48e0-dd1e-a95b054bc547"
      },
      "outputs": [
        {
          "output_type": "display_data",
          "data": {
            "text/plain": [
              "<Figure size 640x480 with 1 Axes>"
            ],
            "image/png": "[encoded data removed]"
          },
          "metadata": {}
        },
        {
          "output_type": "display_data",
          "data": {
            "text/plain": [
              "<Figure size 640x480 with 1 Axes>"
            ],
            "image/png": "[encoded data removed]"
          },
          "metadata": {}
        }
      ],
      "source": [
        "\n",
        "# Plot Loss\n",
        "plt.plot(history.history['loss'], label='Training Loss')\n",
        "plt.plot(history.history['val_loss'], label='Validation Loss')\n",
        "plt.title('Training and Validation Loss')\n",
        "plt.xlabel('Epochs')\n",
        "plt.ylabel('Loss')\n",
        "plt.legend()\n",
        "plt.show()\n",
        "\n",
        "# Plot Accuracy\n",
        "plt.plot(history.history['accuracy'], label='Training Accuracy')\n",
        "plt.plot(history.history['val_accuracy'], label='Validation Accuracy')\n",
        "plt.title('Training and Validation Accuracy')\n",
        "plt.xlabel('Epochs')\n",
        "plt.ylabel('Accuracy')\n",
        "plt.legend()\n",
        "plt.show()\n"
      ]
    },
    {
      "cell_type": "markdown",
      "metadata": {
        "id": "6Ma5tygEIdqK"
      },
      "source": [
        "# Inferences"
      ]
    },
    {
      "cell_type": "code",
      "execution_count": 15,
      "metadata": {
        "execution": {
          "iopub.execute_input": "2024-04-11T06:15:08.096062Z",
          "iopub.status.busy": "2024-04-11T06:15:08.095068Z",
          "iopub.status.idle": "2024-04-11T06:15:08.103261Z",
          "shell.execute_reply": "2024-04-11T06:15:08.102149Z",
          "shell.execute_reply.started": "2024-04-11T06:15:08.096025Z"
        },
        "id": "o7b2gQ5_IdqK"
      },
      "outputs": [],
      "source": [
        "def predict_top_five_words(model, tokenizer, seed_text):\n",
        "    token_list = tokenizer.texts_to_sequences([seed_text])[0]\n",
        "    token_list = pad_sequences([token_list], maxlen=max_sequence_len-1, padding='pre')\n",
        "    predicted = model.predict(token_list, verbose=0)\n",
        "    top_five_indexes = np.argsort(predicted[0])[::-1][:5]\n",
        "    top_five_words = []\n",
        "    for index in top_five_indexes:\n",
        "        for word, idx in tokenizer.word_index.items():\n",
        "            if idx == index:\n",
        "                top_five_words.append(word)\n",
        "                break\n",
        "    return top_five_words\n"
      ]
    },
    {
      "cell_type": "code",
      "execution_count": 16,
      "metadata": {
        "execution": {
          "iopub.execute_input": "2024-04-11T07:21:37.822914Z",
          "iopub.status.busy": "2024-04-11T07:21:37.822420Z",
          "iopub.status.idle": "2024-04-11T07:21:38.082054Z",
          "shell.execute_reply": "2024-04-11T07:21:38.080961Z",
          "shell.execute_reply.started": "2024-04-11T07:21:37.822880Z"
        },
        "id": "1mELV3ynIdqK"
      },
      "outputs": [],
      "source": [
        "from IPython.display import HTML\n",
        "\n",
        "def predict_top_five_words(model, tokenizer, seed_text):\n",
        "    token_list = tokenizer.texts_to_sequences([seed_text])[0]\n",
        "    token_list = pad_sequences([token_list], maxlen=max_sequence_len-1, padding='pre')\n",
        "    predicted = model.predict(token_list, verbose=0)\n",
        "    top_five_indexes = np.argsort(predicted[0])[::-1][:5]\n",
        "    top_five_words = []\n",
        "    for index in top_five_indexes:\n",
        "        for word, idx in tokenizer.word_index.items():\n",
        "            if idx == index:\n",
        "                top_five_words.append(word)\n",
        "                break\n",
        "    return top_five_words\n",
        "\n",
        "def predict_and_display_top_five_words(seed_text, model, tokenizer):\n",
        "    top_five_words = predict_top_five_words(model, tokenizer, seed_text)\n",
        "    heading_app = f\"<h1>Sentence AutoCompletion App With Five Outputs</h1>\"\n",
        "    output_text = f\"<ul>{''.join([f'<li>{seed_text} {word}</li>' for word in top_five_words])}</ul>\"\n",
        "    javascript_code = f\"\"\"\n",
        "    <script>\n",
        "        var newWindow = window.open(\"\", \"_blank\");\n",
        "        newWindow.document.write('<html><head><title>Top Five Words</title></head><body>{heading_app} <br> <hr> {output_text}</body></html>');\n",
        "    </script>\n",
        "    \"\"\"\n",
        "    return HTML(javascript_code)\n",
        "\n",
        "\n"
      ]
    },
    {
      "cell_type": "code",
      "source": [
        "# Test the function\n",
        "seed_text = \"She is my\"\n",
        "\n",
        "# # Save model architecture as JSON file\n",
        "# from tensorflow.keras.models import model_from_json\n",
        "\n",
        "# model_json = model.to_json()\n",
        "# with open(\"lstm_model.json\", \"w\") as json_file:\n",
        "#     json_file.write(model_json)\n",
        "\n",
        "# Load model architecture from JSON file\n",
        "from tensorflow.keras.models import model_from_json\n",
        "\n",
        "# Ensure the JSON file exists before attempting to load\n",
        "try:\n",
        "    with open(\"lstm_model.json\", \"r\") as json_file:\n",
        "        loaded_model_json = json_file.read()\n",
        "\n",
        "    # Create model from loaded architecture\n",
        "    loaded_model = model_from_json(loaded_model_json)\n",
        "\n",
        "    print(\"Model architecture loaded successfully from JSON file.\")\n",
        "\n",
        "    # Load the weights into the model. You need to save the weights separately.\n",
        "    # If you saved the weights using model.save_weights(\"lstm_model_weights.h5\"):\n",
        "    # loaded_model.load_weights(\"lstm_model_weights.h5\")\n",
        "    # print(\"Model weights loaded successfully.\")\n",
        "\n",
        "    # As the weights were not saved explicitly, we will use the already trained model\n",
        "    # 'model' directly for prediction for demonstration purposes.\n",
        "    # In a real-world scenario, you should save and load weights.\n",
        "    predict_and_display_top_five_words(seed_text, model, tokenizer)\n",
        "\n",
        "except FileNotFoundError:\n",
        "    print(\"Error: lstm_model.json not found. Please ensure you have saved the model architecture.\")\n",
        "    # If the JSON file is not found, we can still use the 'model' trained earlier\n",
        "    # for prediction, as long as it's still in the environment.\n",
        "    if 'model' in globals():\n",
        "        print(\"Using the currently trained 'model' for prediction.\")\n",
        "        predict_and_display_top_five_words(seed_text, model, tokenizer)\n",
        "    else:\n",
        "        print(\"Neither 'loaded_model' nor 'model' are available for prediction.\")"
      ],
      "metadata": {
        "colab": {
          "base_uri": "https://localhost:8080/"
        },
        "id": "lUj40CCzOPr-",
        "outputId": "56797f3a-a9f9-408a-fb7b-cf1e84dde5e4"
      },
      "execution_count": 18,
      "outputs": [
        {
          "output_type": "stream",
          "name": "stdout",
          "text": [
            "Error: lstm_model.json not found. Please ensure you have saved the model architecture.\n",
            "Using the currently trained 'model' for prediction.\n"
          ]
        }
      ]
    },
    {
      "cell_type": "code",
      "execution_count": 17,
      "metadata": {
        "execution": {
          "iopub.execute_input": "2024-04-11T07:22:36.745099Z",
          "iopub.status.busy": "2024-04-11T07:22:36.744339Z",
          "iopub.status.idle": "2024-04-11T07:22:36.822230Z",
          "shell.execute_reply": "2024-04-11T07:22:36.821207Z",
          "shell.execute_reply.started": "2024-04-11T07:22:36.745061Z"
        },
        "id": "V8kHU3H9IdqL",
        "colab": {
          "base_uri": "https://localhost:8080/",
          "height": 176
        },
        "outputId": "7fdeb176-02d7-4a2a-93e3-55c6b151ca4a"
      },
      "outputs": [
        {
          "output_type": "error",
          "ename": "NameError",
          "evalue": "name 'loaded_model' is not defined",
          "traceback": [
            "\u001b[0;31m---------------------------------------------------------------------------\u001b[0m",
            "\u001b[0;31mNameError\u001b[0m                                 Traceback (most recent call last)",
            "\u001b[0;32m<ipython-input-17-ba0c042f6916>\u001b[0m in \u001b[0;36m<cell line: 0>\u001b[0;34m()\u001b[0m\n\u001b[1;32m      1\u001b[0m \u001b[0;31m# Test the function\u001b[0m\u001b[0;34m\u001b[0m\u001b[0;34m\u001b[0m\u001b[0m\n\u001b[1;32m      2\u001b[0m \u001b[0mseed_text\u001b[0m \u001b[0;34m=\u001b[0m \u001b[0;34m\"She is my\"\u001b[0m\u001b[0;34m\u001b[0m\u001b[0;34m\u001b[0m\u001b[0m\n\u001b[0;32m----> 3\u001b[0;31m \u001b[0mpredict_and_display_top_five_words\u001b[0m\u001b[0;34m(\u001b[0m\u001b[0mseed_text\u001b[0m\u001b[0;34m,\u001b[0m \u001b[0mloaded_model\u001b[0m\u001b[0;34m,\u001b[0m \u001b[0mtokenizer\u001b[0m\u001b[0;34m)\u001b[0m\u001b[0;34m\u001b[0m\u001b[0;34m\u001b[0m\u001b[0m\n\u001b[0m",
            "\u001b[0;31mNameError\u001b[0m: name 'loaded_model' is not defined"
          ]
        }
      ],
      "source": [
        "# Test the function\n",
        "seed_text = \"She is my\"\n",
        "predict_and_display_top_five_words(seed_text, loaded_model, tokenizer)"
      ]
    },
    {
      "cell_type": "code",
      "execution_count": null,
      "metadata": {
        "execution": {
          "iopub.execute_input": "2024-04-11T06:32:59.206205Z",
          "iopub.status.busy": "2024-04-11T06:32:59.205113Z",
          "iopub.status.idle": "2024-04-11T06:32:59.281620Z",
          "shell.execute_reply": "2024-04-11T06:32:59.280559Z",
          "shell.execute_reply.started": "2024-04-11T06:32:59.206146Z"
        },
        "id": "1s-3R1iBIdqL"
      },
      "outputs": [],
      "source": [
        "# Test 2:\n",
        "# Test the function\n",
        "seed_text = \"I have\"\n",
        "predict_and_display_top_five_words(seed_text, loaded_model, tokenizer)"
      ]
    },
    {
      "cell_type": "code",
      "execution_count": null,
      "metadata": {
        "execution": {
          "iopub.execute_input": "2024-04-11T07:23:00.192909Z",
          "iopub.status.busy": "2024-04-11T07:23:00.192508Z",
          "iopub.status.idle": "2024-04-11T07:23:00.270331Z",
          "shell.execute_reply": "2024-04-11T07:23:00.269254Z",
          "shell.execute_reply.started": "2024-04-11T07:23:00.192880Z"
        },
        "id": "CSbM5KW9IdqL"
      },
      "outputs": [],
      "source": [
        "# Test 3:\n",
        "# Test the function\n",
        "seed_text = \"We love\"\n",
        "predict_and_display_top_five_words(seed_text, loaded_model, tokenizer)"
      ]
    },
    {
      "cell_type": "code",
      "execution_count": null,
      "metadata": {
        "execution": {
          "iopub.execute_input": "2024-04-11T06:33:58.775637Z",
          "iopub.status.busy": "2024-04-11T06:33:58.775231Z",
          "iopub.status.idle": "2024-04-11T06:33:58.849540Z",
          "shell.execute_reply": "2024-04-11T06:33:58.848492Z",
          "shell.execute_reply.started": "2024-04-11T06:33:58.775606Z"
        },
        "id": "ZkoOAuYLIdqL"
      },
      "outputs": [],
      "source": [
        "# Test 3:\n",
        "seed_text = \"How are\"\n",
        "predict_and_display_top_five_words(seed_text, loaded_model, tokenizer)"
      ]
    }
  ],
  "metadata": {
    "kaggle": {
      "accelerator": "gpu",
      "dataSources": [
        {
          "datasetId": 4758440,
          "sourceId": 8065627,
          "sourceType": "datasetVersion"
        },
        {
          "datasetId": 4758543,
          "sourceId": 8065761,
          "sourceType": "datasetVersion"
        },
        {
          "datasetId": 4759977,
          "sourceId": 8067728,
          "sourceType": "datasetVersion"
        }
      ],
      "dockerImageVersionId": 30674,
      "isGpuEnabled": true,
      "isInternetEnabled": true,
      "language": "python",
      "sourceType": "notebook"
    },
    "kernelspec": {
      "display_name": "Python 3",
      "name": "python3"
    },
    "language_info": {
      "codemirror_mode": {
        "name": "ipython",
        "version": 3
      },
      "file_extension": ".py",
      "mimetype": "text/x-python",
      "name": "python",
      "nbconvert_exporter": "python",
      "pygments_lexer": "ipython3",
      "version": "3.9.12"
    },
    "colab": {
      "provenance": [],
      "gpuType": "T4"
    },
    "accelerator": "GPU"
  },
  "nbformat": 4,
  "nbformat_minor": 0
}